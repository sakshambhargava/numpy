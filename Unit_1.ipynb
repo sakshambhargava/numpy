{
  "cells": [
    {
      "cell_type": "markdown",
      "metadata": {
        "id": "view-in-github",
        "colab_type": "text"
      },
      "source": [
        "<a href=\"https://colab.research.google.com/github/sakshambhargava/numpy/blob/main/Unit_1.ipynb\" target=\"_parent\"><img src=\"https://colab.research.google.com/assets/colab-badge.svg\" alt=\"Open In Colab\"/></a>"
      ]
    },
    {
      "cell_type": "markdown",
      "metadata": {
        "id": "P2qk24GE61_K"
      },
      "source": [
        "## Unit-1"
      ]
    },
    {
      "cell_type": "markdown",
      "metadata": {
        "id": "04btTnU161_P"
      },
      "source": [
        "# Introduction to Numpy"
      ]
    },
    {
      "cell_type": "markdown",
      "metadata": {
        "id": "awnkEeKq61_R"
      },
      "source": [
        "Numpy is one of the most important foundational packages for Numerical computing in python  <br><br>\n",
        "NumPy is a library for the Python programming language, adding support for large, multi-dimensional arrays and matrices, along with a large collection of high-level mathematical functions to operate on these arrays."
      ]
    },
    {
      "cell_type": "markdown",
      "metadata": {
        "id": "PgAh2tcx61_T"
      },
      "source": [
        "NumPy was created in 2005 by Travis Oliphant. It is an open source project and you can use it freely. <br>\n",
        "\n",
        "NumPy stands for Numerical Python."
      ]
    },
    {
      "cell_type": "markdown",
      "metadata": {
        "id": "FknoqGHr61_V"
      },
      "source": [
        "NumPy is a Python library and is written partially in Python, but most of the parts that require fast computation are written in C or C++.\n"
      ]
    },
    {
      "cell_type": "markdown",
      "metadata": {
        "id": "7RZHbElQ61_V"
      },
      "source": [
        "# Advantages of Numpy: \n",
        "\n",
        "1. NumPy performs array-oriented computing.\n",
        "2. It efficiently implements the multidimensional arrays.\n",
        "3. It performs scientific computations.\n",
        "4. It is capable of performing Fourier Transform and reshaping the data stored in multidimensional arrays.\n",
        "5. NumPy provides the in-built functions for linear algebra and random number generation"
      ]
    },
    {
      "cell_type": "markdown",
      "metadata": {
        "id": "NC4ZS76A61_W"
      },
      "source": [
        "# Advantages of using Numpy Arrays Over Python Lists:\n",
        "\n",
        "1. consumes less memory. <br>\n",
        "2. fast as compared to the python List. <br>\n",
        "3. convenient to use. "
      ]
    },
    {
      "cell_type": "markdown",
      "metadata": {
        "id": "R1RvOH1861_W"
      },
      "source": [
        "# Installation of Numpy"
      ]
    },
    {
      "cell_type": "code",
      "execution_count": null,
      "metadata": {
        "id": "XRj-PNAq61_X",
        "outputId": "6e64a0b0-8094-424d-cda9-e6f64d8e5bbd"
      },
      "outputs": [
        {
          "name": "stdout",
          "output_type": "stream",
          "text": [
            "Requirement already satisfied: numpy in c:\\programdata\\anaconda3\\lib\\site-packages (1.19.2)\n",
            "Note: you may need to restart the kernel to use updated packages.\n"
          ]
        }
      ],
      "source": [
        "pip install numpy "
      ]
    },
    {
      "cell_type": "markdown",
      "metadata": {
        "id": "-_bp_ZFH61_a"
      },
      "source": [
        "# Import Numpy and check the version? "
      ]
    },
    {
      "cell_type": "code",
      "execution_count": null,
      "metadata": {
        "id": "CqqVMS5K61_b",
        "outputId": "fcb13316-29e9-4a6c-a3ac-5fbe90ddf8a7"
      },
      "outputs": [
        {
          "name": "stdout",
          "output_type": "stream",
          "text": [
            "1.19.2\n"
          ]
        }
      ],
      "source": [
        "import numpy as np\n",
        "print(np.__version__)"
      ]
    },
    {
      "cell_type": "markdown",
      "metadata": {
        "id": "6iR2DtLY61_b"
      },
      "source": [
        "# Data Types in Numpy"
      ]
    },
    {
      "cell_type": "markdown",
      "metadata": {
        "id": "2YFy3Qcc61_c"
      },
      "source": [
        "# NumPy Built-in Data Types\n",
        "\n",
        "We can reference the built-in data types in NumPy by particular character code.\n",
        "<br>\n",
        "i – integer  \n",
        "b – boolean  \n",
        "u – unsigned  \n",
        "f – float     \n",
        "c – complex float   \n",
        "m – timedelta     \n",
        "M – datetime   \n",
        "O – object  \n",
        "S – string    \n",
        "U – unicode string <br>\n",
        "V – void"
      ]
    },
    {
      "cell_type": "markdown",
      "metadata": {
        "id": "UDgQO-Za61_e"
      },
      "source": [
        "# Numpy Scalar Data Types"
      ]
    },
    {
      "cell_type": "markdown",
      "metadata": {
        "id": "_9wGjPOb61_e"
      },
      "source": [
        "1. bool_ – It is used to return Boolean true or false values.\n",
        "2. int_ – It is the default integer type (int64 or int32)\n",
        "3. intc – It is identical to the integer in C (int32 or int64)\n",
        "4. intp – It is the integer value used for indexing\n",
        "5. int8 – It is for assigning 8-bit integer value (-128 to 127)\n",
        "6. int16 – It is for assigning 16-bit integer value (-32768 to 32767)\n",
        "7. int32 – It is for assigning 32-bit integer value (-2147483648 to 2147483647)\n",
        "8. int32 – It is for assigning 64-bit integer value (-9223372036854775808 to 9223372036854775807)\n",
        "9. uint8 – It is for assigning unsigned 8-bit integer value (0 to 255)\n",
        "10. uint16 – It is for assigning unsigned 16-bit integer value (0 to 65535)\n",
        "11. uint32 – It is for assigning unsigned 32-bit integer value (0 to 4294967295)\n",
        "12. uint64 – It is for assigning unsigned 64-bit integer value (0 to 18446744073709551615)\n",
        "13. float_ – It is to assign float values.\n",
        "14. float16 – It is for half precision float values.\n",
        "15. float32 – It is for single-precision float values.\n",
        "16. float64 – It is for double-precision float values.\n",
        "17. complex_ – It is to assign complex values.\n",
        "18. complex64 – It is to represent two 32-bit float complex values (real and imaginary)\n",
        "19. complex128 – It is to represent two 64-bit float complex values (real and imaginary)"
      ]
    },
    {
      "cell_type": "markdown",
      "metadata": {
        "id": "DiG353CH61_f"
      },
      "source": [
        "### Casting\n",
        "You can convert or cast an array from one data type to another"
      ]
    },
    {
      "cell_type": "code",
      "execution_count": null,
      "metadata": {
        "id": "wucrN_6t61_f",
        "outputId": "2e910968-163d-486a-82ab-fb384437e775"
      },
      "outputs": [
        {
          "name": "stdout",
          "output_type": "stream",
          "text": [
            "[1. 2. 3. 4. 5.]\n",
            "int32\n"
          ]
        }
      ],
      "source": [
        "arra1 = np.array([1, 2, 3, 4, 5])\n",
        "print(arra1.astype(np.float64))   #Change Data Int to float.\n",
        "print(arra1.dtype)"
      ]
    },
    {
      "cell_type": "code",
      "execution_count": null,
      "metadata": {
        "id": "_oZxxw4861_g",
        "outputId": "48f41c8d-ecf0-4a43-8ac9-1ada7de302a3"
      },
      "outputs": [
        {
          "name": "stdout",
          "output_type": "stream",
          "text": [
            "[1 2 3]\n"
          ]
        }
      ],
      "source": [
        "# One Dimentional Arrays\n",
        "\n",
        "import numpy as np \n",
        "a = np.array([1,2,3]) \n",
        "print(a)"
      ]
    },
    {
      "cell_type": "code",
      "execution_count": null,
      "metadata": {
        "id": "bt8TqNlT61_g",
        "outputId": "5dafa1fb-e284-4e4d-8ee1-ebb29f264380"
      },
      "outputs": [
        {
          "name": "stdout",
          "output_type": "stream",
          "text": [
            "[[1 2]\n",
            " [3 4]]\n"
          ]
        }
      ],
      "source": [
        "# more than one dimensions \n",
        "\n",
        "import numpy as np \n",
        "a = np.array([[1, 2], [3, 4]]) \n",
        "print(a)"
      ]
    },
    {
      "cell_type": "code",
      "execution_count": null,
      "metadata": {
        "id": "5m336GdK61_h",
        "outputId": "401df491-0ded-4c9c-cf98-882d854ec4e3"
      },
      "outputs": [
        {
          "name": "stdout",
          "output_type": "stream",
          "text": [
            "[[1 2 3 4 5]]\n"
          ]
        }
      ],
      "source": [
        "# minimum dimensions \n",
        "import numpy as np \n",
        "a = np.array([1, 2, 3,4,5], ndmin = 2) \n",
        "print(a)"
      ]
    },
    {
      "cell_type": "code",
      "execution_count": null,
      "metadata": {
        "id": "SHjNGt8u61_i",
        "outputId": "83f3b790-ad7a-4ba3-ddf8-a5c77036faa2"
      },
      "outputs": [
        {
          "name": "stdout",
          "output_type": "stream",
          "text": [
            "[1.+0.j 2.+0.j 3.+0.j]\n"
          ]
        }
      ],
      "source": [
        "# dtype parameter \n",
        "import numpy as np \n",
        "a = np.array([1, 2, 3], dtype = complex) \n",
        "print(a)"
      ]
    },
    {
      "cell_type": "code",
      "execution_count": null,
      "metadata": {
        "id": "4cZIviTv61_i",
        "outputId": "3e8b9dfb-0714-41a2-8f9c-3ac33eea5aed"
      },
      "outputs": [
        {
          "name": "stdout",
          "output_type": "stream",
          "text": [
            "(3,)\n"
          ]
        }
      ],
      "source": [
        "print(a.shape)"
      ]
    },
    {
      "cell_type": "code",
      "execution_count": null,
      "metadata": {
        "id": "7wS3CXJ461_j",
        "outputId": "a00d17cd-d925-4741-900e-16a8be55320d"
      },
      "outputs": [
        {
          "name": "stdout",
          "output_type": "stream",
          "text": [
            "[[1 2]\n",
            " [3 4]\n",
            " [5 6]]\n"
          ]
        }
      ],
      "source": [
        "# Reshape Function \n",
        "\n",
        "import numpy as np \n",
        "a = np.array([[1,2,3],[4,5,6]]) \n",
        "b = a.reshape(3,2) \n",
        "print(b)"
      ]
    },
    {
      "cell_type": "markdown",
      "metadata": {
        "id": "QrLFtPi-61_k"
      },
      "source": [
        "# How to create a boolean array?\n",
        "\n",
        "\n"
      ]
    },
    {
      "cell_type": "code",
      "execution_count": null,
      "metadata": {
        "id": "D5ITeHWv61_l",
        "outputId": "60e53d2c-0958-4d65-93e1-19061ebbc688"
      },
      "outputs": [
        {
          "data": {
            "text/plain": [
              "array([[ True,  True,  True],\n",
              "       [ True,  True,  True],\n",
              "       [ True,  True,  True]])"
            ]
          },
          "execution_count": 30,
          "metadata": {},
          "output_type": "execute_result"
        }
      ],
      "source": [
        "np.full((3, 3), True, dtype=bool)"
      ]
    },
    {
      "cell_type": "markdown",
      "metadata": {
        "id": "p9vYHNMp61_l"
      },
      "source": [
        "# How to extract items that are Odd Numbers from 1D array?"
      ]
    },
    {
      "cell_type": "code",
      "execution_count": null,
      "metadata": {
        "id": "Hma66qha61_l",
        "outputId": "b6206c65-c04a-4566-97c8-b3c5b594010b"
      },
      "outputs": [
        {
          "data": {
            "text/plain": [
              "array([1, 3, 5, 7, 9])"
            ]
          },
          "execution_count": 33,
          "metadata": {},
          "output_type": "execute_result"
        }
      ],
      "source": [
        "arr = np.array([0, 1, 2, 3, 4, 5, 6, 7, 8, 9])\n",
        "\n",
        "arr[arr % 2 == 1]"
      ]
    },
    {
      "cell_type": "markdown",
      "metadata": {
        "id": "Cs96mLEA61_l"
      },
      "source": [
        "# Generate Random Numbers"
      ]
    },
    {
      "cell_type": "code",
      "execution_count": null,
      "metadata": {
        "id": "9D7R_HUr61_m",
        "outputId": "c0952b2c-864e-471d-a911-b578892d3738"
      },
      "outputs": [
        {
          "name": "stdout",
          "output_type": "stream",
          "text": [
            "[ 1 39 49 45 42 68 18 35 56 51]\n"
          ]
        }
      ],
      "source": [
        "# Random Numbers from 0 to 100 and total 10 Numbers.\n",
        "\n",
        "print(np.random.randint(0,100, size=10,dtype=int)) \n"
      ]
    },
    {
      "cell_type": "markdown",
      "metadata": {
        "id": "FfRj_2yD61_m"
      },
      "source": [
        "#### Other ways to create new arrays"
      ]
    },
    {
      "cell_type": "markdown",
      "metadata": {
        "id": "wLsBAAph61_m"
      },
      "source": [
        "`ones` - to create an array of 1s<br>\n",
        "`zeros` - to create array of 0s<br>\n",
        "`empty` - create array without initializing its values<br>\n",
        "to create higher dimensional array pass the tuple as dimension of array<br>"
      ]
    },
    {
      "cell_type": "markdown",
      "metadata": {
        "id": "Yvui_vVX61_m"
      },
      "source": [
        "#### Zero\n",
        "`zero()` creates an array filled with zero values. arguement is an array or tulip with size of each dimension of the array"
      ]
    },
    {
      "cell_type": "code",
      "execution_count": null,
      "metadata": {
        "id": "Zx2ilWC461_m",
        "outputId": "c4af6ec0-44c2-43dd-f70d-7405b2ac0fdb"
      },
      "outputs": [
        {
          "data": {
            "text/plain": [
              "array([0., 0., 0., 0., 0., 0., 0., 0., 0., 0.])"
            ]
          },
          "execution_count": 38,
          "metadata": {},
          "output_type": "execute_result"
        }
      ],
      "source": [
        "np.zeros(10)"
      ]
    },
    {
      "cell_type": "code",
      "execution_count": null,
      "metadata": {
        "scrolled": true,
        "id": "ObqsCU9E61_n",
        "outputId": "4ae95cd3-be40-4346-b9bb-46b622a10520"
      },
      "outputs": [
        {
          "data": {
            "text/plain": [
              "array([[0., 0., 0., 0., 0., 0.],\n",
              "       [0., 0., 0., 0., 0., 0.],\n",
              "       [0., 0., 0., 0., 0., 0.]])"
            ]
          },
          "execution_count": 39,
          "metadata": {},
          "output_type": "execute_result"
        }
      ],
      "source": [
        "np.zeros((3, 6))"
      ]
    },
    {
      "cell_type": "markdown",
      "metadata": {
        "id": "xo_v2vZd61_n"
      },
      "source": [
        "#### Ones\n",
        "`ones()` - filled with one values."
      ]
    },
    {
      "cell_type": "code",
      "execution_count": null,
      "metadata": {
        "id": "S_QWJ6Az61_n",
        "outputId": "34e63b5d-eca7-401e-90f5-d0dee35eb0e0"
      },
      "outputs": [
        {
          "data": {
            "text/plain": [
              "array([[1., 1., 1.],\n",
              "       [1., 1., 1.]])"
            ]
          },
          "execution_count": 40,
          "metadata": {},
          "output_type": "execute_result"
        }
      ],
      "source": [
        "np.ones((2,3))"
      ]
    },
    {
      "cell_type": "markdown",
      "metadata": {
        "id": "qUKB7kbl61_o"
      },
      "source": [
        "#### Empty\n",
        "`empty()` function create an array of specified shape. Arguement is an rray or tulip with lenght of each dimension of array<br>\n",
        "Value created are random and empty array needs to be assigned before use<br>"
      ]
    },
    {
      "cell_type": "code",
      "execution_count": null,
      "metadata": {
        "id": "3QTJAm4W61_o",
        "outputId": "1e0e7466-a43d-408a-897b-c3c5d10e506f"
      },
      "outputs": [
        {
          "data": {
            "text/plain": [
              "array([[[0., 0.],\n",
              "        [0., 0.],\n",
              "        [0., 0.]],\n",
              "\n",
              "       [[0., 0.],\n",
              "        [0., 0.],\n",
              "        [0., 0.]],\n",
              "\n",
              "       [[0., 0.],\n",
              "        [0., 0.],\n",
              "        [0., 0.]]])"
            ]
          },
          "execution_count": 41,
          "metadata": {},
          "output_type": "execute_result"
        }
      ],
      "source": [
        "np.empty((3, 3, 2))"
      ]
    },
    {
      "cell_type": "markdown",
      "metadata": {
        "id": "-D00qolv61_o"
      },
      "source": [
        "# `eye`, `identity` Create a square N × N identity matrix (1s on the diagonal and 0s elsewhere)"
      ]
    },
    {
      "cell_type": "code",
      "execution_count": null,
      "metadata": {
        "id": "yufpubhA61_p",
        "outputId": "60227dc2-7b6f-4094-a1e0-5bf324ea3ae2"
      },
      "outputs": [
        {
          "data": {
            "text/plain": [
              "array([[1., 0.],\n",
              "       [0., 1.]])"
            ]
          },
          "execution_count": 42,
          "metadata": {},
          "output_type": "execute_result"
        }
      ],
      "source": [
        "np.eye(2)"
      ]
    },
    {
      "cell_type": "code",
      "execution_count": null,
      "metadata": {
        "id": "k9Tc9FfU61_p"
      },
      "outputs": [],
      "source": []
    },
    {
      "cell_type": "code",
      "execution_count": null,
      "metadata": {
        "id": "MexF0pCk61_p"
      },
      "outputs": [],
      "source": []
    },
    {
      "cell_type": "markdown",
      "metadata": {
        "id": "1hhQb9k261_p"
      },
      "source": [
        "# Numpy ndarray - Multidimensional Array Object\n",
        "`ndarray` is one of the most important feature of Numpy<br>\n",
        "`ndarray` is multidimensional container of homogeneous data<br>\n",
        "All the elements are of same type<br>\n",
        "each `ndarray` has `shape` and data type given by `dtype` of the array"
      ]
    },
    {
      "cell_type": "code",
      "execution_count": null,
      "metadata": {
        "id": "Tbn7Rqpj61_p",
        "outputId": "ec36a178-9619-44dd-9882-57674bd9c9ff"
      },
      "outputs": [
        {
          "name": "stdout",
          "output_type": "stream",
          "text": [
            "[[ 1.34092554 -0.53189297 -1.03180517]\n",
            " [ 0.76183449  0.10177404  0.69100574]]\n"
          ]
        }
      ],
      "source": [
        "import numpy as np\n",
        "data = np.random.randn(2, 3)  # Random Numbers generated between 2 to 3. \n",
        "print(data)"
      ]
    },
    {
      "cell_type": "code",
      "execution_count": null,
      "metadata": {
        "id": "sFdblO6E61_p",
        "outputId": "98135a59-9c6b-4f51-9034-5488dea5ba24"
      },
      "outputs": [
        {
          "name": "stdout",
          "output_type": "stream",
          "text": [
            "<class 'numpy.ndarray'>\n"
          ]
        }
      ],
      "source": [
        "an_arr = np.arange(1000)\n",
        "print(type(an_arr))         #Type of Array. "
      ]
    },
    {
      "cell_type": "markdown",
      "metadata": {
        "id": "MfxgsNvG61_q"
      },
      "source": [
        "## Combining ndarray\n",
        "New ndarrary can be created.<br>\n",
        "`vstack()` and `hstack` are two popular methods<br>\n",
        "`vstack()` - Vertical Stack<br>\n",
        "`hstack()` - Horizontal Stack<br>\n",
        "<br>\n",
        "\n",
        "### Vertical Stack\n",
        "Two or more array can be stacked vertically"
      ]
    },
    {
      "cell_type": "code",
      "execution_count": null,
      "metadata": {
        "id": "8YEPrNpv61_q",
        "outputId": "f149223e-7553-4a1a-9eee-c49070367456"
      },
      "outputs": [
        {
          "name": "stdout",
          "output_type": "stream",
          "text": [
            "[[1 2 3]\n",
            " [4 5 6]]\n",
            "[[ 7  8  9]\n",
            " [10 11 12]]\n",
            "[[ 1  2  3]\n",
            " [ 4  5  6]\n",
            " [ 7  8  9]\n",
            " [10 11 12]]\n",
            "(4, 3)\n"
          ]
        }
      ],
      "source": [
        "arr1 = np.array([[1,2,3],[4,5,6]])         #2D Array\n",
        "print(arr1)\n",
        "arr2 = np.array([[7,8,9],[10,11,12]])       #3D Array \n",
        "print(arr2)\n",
        "arr3 = np.vstack((arr1, arr2))         #Combining Array in Vertical Stack. \n",
        "print(arr3)\n",
        "print(arr3.shape)"
      ]
    },
    {
      "cell_type": "markdown",
      "metadata": {
        "id": "xrQ5DbuP61_q"
      },
      "source": [
        "### Horizontal Stack\n",
        "Two or more ndarray can be stacked horizontally"
      ]
    },
    {
      "cell_type": "code",
      "execution_count": null,
      "metadata": {
        "id": "es5ZSJqR61_q",
        "outputId": "86712c80-250c-4e2d-839b-372b109908e1"
      },
      "outputs": [
        {
          "name": "stdout",
          "output_type": "stream",
          "text": [
            "[[ 1  2  3  7  8  9]\n",
            " [ 4  5  6 10 11 12]]\n",
            "(2, 6)\n"
          ]
        }
      ],
      "source": [
        "arr3 = np.hstack((arr1, arr2))  \n",
        "print(arr3)\n",
        "print(arr3.shape)"
      ]
    },
    {
      "cell_type": "markdown",
      "metadata": {
        "id": "SWAxrY3C61_q"
      },
      "source": [
        "### Concatenating ndarray\n",
        "`concatenate()` take a sequence (tulip, list etc) and join them along input axis"
      ]
    },
    {
      "cell_type": "code",
      "execution_count": null,
      "metadata": {
        "id": "OFInpvLd61_q",
        "outputId": "43bb55fc-a1bd-4258-f623-32599f40221d"
      },
      "outputs": [
        {
          "name": "stdout",
          "output_type": "stream",
          "text": [
            "[[ 1  2  3]\n",
            " [ 4  5  6]\n",
            " [ 7  8  9]\n",
            " [10 11 12]]\n",
            "(4, 3)\n"
          ]
        }
      ],
      "source": [
        "arr3 = np.concatenate([arr1, arr2], axis=0)\n",
        "print(arr3)\n",
        "print(arr3.shape)"
      ]
    },
    {
      "cell_type": "code",
      "execution_count": null,
      "metadata": {
        "id": "ui6pZjeW61_r",
        "outputId": "922090ff-a21d-4345-f42b-3d8772ed8eb1"
      },
      "outputs": [
        {
          "name": "stdout",
          "output_type": "stream",
          "text": [
            "[[ 1  2  3  7  8  9]\n",
            " [ 4  5  6 10 11 12]]\n",
            "(2, 6)\n"
          ]
        }
      ],
      "source": [
        "arr3 = np.concatenate([arr1, arr2], axis=1)\n",
        "print(arr3)\n",
        "print(arr3.shape)"
      ]
    },
    {
      "cell_type": "markdown",
      "metadata": {
        "id": "PSM_HR1h61_r"
      },
      "source": [
        "### Splitting Array\n",
        "divides the array into subarrays along a specified axis"
      ]
    },
    {
      "cell_type": "markdown",
      "metadata": {
        "id": "s6AEDMeW61_r"
      },
      "source": [
        "Syntax:  numpy.split(ary, indices_or_sections, axis)"
      ]
    },
    {
      "cell_type": "code",
      "execution_count": null,
      "metadata": {
        "scrolled": true,
        "id": "r8JljdXC61_r",
        "outputId": "ae12062e-4266-41c0-d57c-895d8b35130c"
      },
      "outputs": [
        {
          "name": "stdout",
          "output_type": "stream",
          "text": [
            "first array\n",
            "[0 1 2 3 4 5 6 7 8]\n",
            "\n",
            "\n",
            "splitting the array in 3 equal size arrays\n",
            "[array([0, 1, 2]), array([3, 4, 5]), array([6, 7, 8])]\n",
            "\n",
            "\n",
            "splitting the array indicated first at 4, second 5- 7 remaining in 3rd\n",
            "[array([0, 1]), array([2, 3, 4]), array([5, 6]), array([7, 8])]\n",
            "\n",
            "\n"
          ]
        }
      ],
      "source": [
        "a = np.arange(9)\n",
        "print('first array')\n",
        "print(a)\n",
        "print('\\n')\n",
        "print('splitting the array in 3 equal size arrays')\n",
        "b = np.split(a,3)\n",
        "print(b)\n",
        "print('\\n')\n",
        "print('splitting the array indicated first at 4, second 5- 7 remaining in 3rd')\n",
        "c=np.split(a,[2,5,7])\n",
        "print(c)\n",
        "print('\\n')"
      ]
    },
    {
      "cell_type": "markdown",
      "metadata": {
        "id": "NKdhwo0u61_r"
      },
      "source": [
        "### Arithmetic with Numpy Array\n",
        "Numpy support the batch operations on data without `for` loops. This is call as *vectorization*"
      ]
    },
    {
      "cell_type": "code",
      "execution_count": null,
      "metadata": {
        "id": "XS0kmCn-61_r",
        "outputId": "6e492164-d520-4e9e-d8fc-ed9b1dcd22c8"
      },
      "outputs": [
        {
          "data": {
            "text/plain": [
              "array([[1, 2, 3],\n",
              "       [4, 5, 6]])"
            ]
          },
          "execution_count": 51,
          "metadata": {},
          "output_type": "execute_result"
        }
      ],
      "source": [
        "arr = np.array([[1,2,3],[4,5,6]])\n",
        "arr"
      ]
    },
    {
      "cell_type": "code",
      "execution_count": null,
      "metadata": {
        "id": "_-VECKL_61_s",
        "outputId": "6811ba7b-d911-4ab0-f666-786a1185879f"
      },
      "outputs": [
        {
          "data": {
            "text/plain": [
              "array([[1, 2, 3],\n",
              "       [4, 5, 6]])"
            ]
          },
          "execution_count": 50,
          "metadata": {},
          "output_type": "execute_result"
        }
      ],
      "source": [
        "arr = np.array([[1,2,3],[4,5,6]])\n",
        "arr"
      ]
    },
    {
      "cell_type": "code",
      "execution_count": null,
      "metadata": {
        "id": "6E-4IGKv61_s",
        "outputId": "c61cce67-cc70-4233-d69e-10944d9bcb44"
      },
      "outputs": [
        {
          "data": {
            "text/plain": [
              "array([[ 2,  4,  6],\n",
              "       [ 8, 10, 12]])"
            ]
          },
          "execution_count": 52,
          "metadata": {},
          "output_type": "execute_result"
        }
      ],
      "source": [
        "arr+arr"
      ]
    },
    {
      "cell_type": "code",
      "execution_count": null,
      "metadata": {
        "id": "LYjxzC5A61_s",
        "outputId": "14c7e283-cfd6-482b-aec5-1171192ba914"
      },
      "outputs": [
        {
          "data": {
            "text/plain": [
              "array([[0, 0, 0],\n",
              "       [0, 0, 0]])"
            ]
          },
          "execution_count": 53,
          "metadata": {},
          "output_type": "execute_result"
        }
      ],
      "source": [
        "arr-arr"
      ]
    },
    {
      "cell_type": "code",
      "execution_count": null,
      "metadata": {
        "id": "TFSapFVo61_s",
        "outputId": "cd815073-8f5a-4ff5-8c84-408f313d4c7b"
      },
      "outputs": [
        {
          "data": {
            "text/plain": [
              "array([[ 1,  4,  9],\n",
              "       [16, 25, 36]])"
            ]
          },
          "execution_count": 54,
          "metadata": {},
          "output_type": "execute_result"
        }
      ],
      "source": [
        "arr*arr"
      ]
    },
    {
      "cell_type": "code",
      "execution_count": null,
      "metadata": {
        "id": "M8fAMx8561_s",
        "outputId": "d3b2a38e-504e-47df-b9ab-dd877b5c9efc"
      },
      "outputs": [
        {
          "data": {
            "text/plain": [
              "array([[0, 0, 0],\n",
              "       [0, 0, 0]], dtype=int32)"
            ]
          },
          "execution_count": 55,
          "metadata": {},
          "output_type": "execute_result"
        }
      ],
      "source": [
        "arr%arr"
      ]
    },
    {
      "cell_type": "code",
      "execution_count": null,
      "metadata": {
        "id": "ICd1HHlO61_t",
        "outputId": "8b70451f-cc9e-4fb5-b7eb-4d3fe831c475"
      },
      "outputs": [
        {
          "data": {
            "text/plain": [
              "array([[1., 1., 1.],\n",
              "       [1., 1., 1.]])"
            ]
          },
          "execution_count": 56,
          "metadata": {},
          "output_type": "execute_result"
        }
      ],
      "source": [
        "arr/arr"
      ]
    },
    {
      "cell_type": "code",
      "execution_count": null,
      "metadata": {
        "id": "Wpm16qqt61_t",
        "outputId": "6d65bba6-49ec-4a28-d7da-af4321e63694"
      },
      "outputs": [
        {
          "data": {
            "text/plain": [
              "array([[1.        , 0.5       , 0.33333333],\n",
              "       [0.25      , 0.2       , 0.16666667]])"
            ]
          },
          "execution_count": 57,
          "metadata": {},
          "output_type": "execute_result"
        }
      ],
      "source": [
        "1/arr"
      ]
    },
    {
      "cell_type": "code",
      "execution_count": null,
      "metadata": {
        "id": "uYLA2cAf61_t",
        "outputId": "57e1336a-b9f2-40d5-da6c-a9ee47fe29ac"
      },
      "outputs": [
        {
          "data": {
            "text/plain": [
              "array([[1.        , 1.41421356, 1.73205081],\n",
              "       [2.        , 2.23606798, 2.44948974]])"
            ]
          },
          "execution_count": 58,
          "metadata": {},
          "output_type": "execute_result"
        }
      ],
      "source": [
        "arr**0.5"
      ]
    },
    {
      "cell_type": "markdown",
      "metadata": {
        "id": "t-Rekx5I61_u"
      },
      "source": [
        "#### Comparision of array"
      ]
    },
    {
      "cell_type": "code",
      "execution_count": null,
      "metadata": {
        "id": "dA95GuCE61_u",
        "outputId": "ed8e1546-5fde-4f09-fa40-f235e50e52e4"
      },
      "outputs": [
        {
          "data": {
            "text/plain": [
              "array([[3, 4, 5],\n",
              "       [6, 7, 8]])"
            ]
          },
          "execution_count": 59,
          "metadata": {},
          "output_type": "execute_result"
        }
      ],
      "source": [
        "arr2 = np.array([[3,4,5],[6,7,8]])\n",
        "arr2"
      ]
    },
    {
      "cell_type": "code",
      "execution_count": null,
      "metadata": {
        "id": "2rqOi5Kb61_w",
        "outputId": "57ba2b03-00c8-4a1f-f4dc-1a0015dde87b"
      },
      "outputs": [
        {
          "data": {
            "text/plain": [
              "array([[1, 2, 6],\n",
              "       [4, 5, 6]])"
            ]
          },
          "execution_count": 62,
          "metadata": {},
          "output_type": "execute_result"
        }
      ],
      "source": [
        "arr2 = np.array([[1,2,6],[4,5,6]])\n",
        "arr2"
      ]
    },
    {
      "cell_type": "code",
      "execution_count": null,
      "metadata": {
        "id": "INBjAHOX61_w",
        "outputId": "4bf137a9-dbed-461e-ada8-18f88dfe0395"
      },
      "outputs": [
        {
          "data": {
            "text/plain": [
              "array([[False, False,  True],\n",
              "       [False, False, False]])"
            ]
          },
          "execution_count": 63,
          "metadata": {},
          "output_type": "execute_result"
        }
      ],
      "source": [
        "arr2>arr1    #Show the Boolean Result"
      ]
    },
    {
      "cell_type": "markdown",
      "metadata": {
        "id": "j9HXRxpx61_x"
      },
      "source": [
        "### Array Indexing\n",
        "You can access data in Numpy using Indexing"
      ]
    },
    {
      "cell_type": "markdown",
      "metadata": {
        "id": "gD5X3Z6161_x"
      },
      "source": [
        "#### One Dimensional Indexing\n",
        "You can access One Dimensional Indexing using bracket operator [] by specifying the zero offset value"
      ]
    },
    {
      "cell_type": "code",
      "execution_count": null,
      "metadata": {
        "id": "vo3Q6EKL61_x"
      },
      "outputs": [],
      "source": [
        "arr = np.array([10, 20, 30, 40, 50])"
      ]
    },
    {
      "cell_type": "code",
      "execution_count": null,
      "metadata": {
        "id": "g0G1oH0v61_x",
        "outputId": "f31ecb19-9658-4b28-b788-4cc0fe68da9b"
      },
      "outputs": [
        {
          "data": {
            "text/plain": [
              "10"
            ]
          },
          "execution_count": 65,
          "metadata": {},
          "output_type": "execute_result"
        }
      ],
      "source": [
        "arr[0]"
      ]
    },
    {
      "cell_type": "code",
      "execution_count": null,
      "metadata": {
        "id": "O-C_t5YQ61_y",
        "outputId": "8c147347-f7be-4c79-cab2-671d36930d04"
      },
      "outputs": [
        {
          "data": {
            "text/plain": [
              "20"
            ]
          },
          "execution_count": 66,
          "metadata": {},
          "output_type": "execute_result"
        }
      ],
      "source": [
        "10+arr[0]"
      ]
    },
    {
      "cell_type": "code",
      "execution_count": null,
      "metadata": {
        "id": "xkS0Kcgw61_y",
        "outputId": "66ea04c2-9fc1-4042-84d4-34c74d781801"
      },
      "outputs": [
        {
          "data": {
            "text/plain": [
              "50"
            ]
          },
          "execution_count": 67,
          "metadata": {},
          "output_type": "execute_result"
        }
      ],
      "source": [
        "arr[-1]"
      ]
    },
    {
      "cell_type": "markdown",
      "metadata": {
        "id": "JnsiDGP361_y"
      },
      "source": [
        "### Two Dimensional Index\n",
        "use comma to separate the index of each dimension"
      ]
    },
    {
      "cell_type": "code",
      "execution_count": null,
      "metadata": {
        "id": "5hrH1M2F61_y",
        "outputId": "a816d3bc-3f22-4673-e3ea-a72515499e2a"
      },
      "outputs": [
        {
          "data": {
            "text/plain": [
              "array([[10, 20, 30],\n",
              "       [40, 50, 60]])"
            ]
          },
          "execution_count": 68,
          "metadata": {},
          "output_type": "execute_result"
        }
      ],
      "source": [
        "arr2d=np.array([[10, 20, 30],[40, 50, 60]])\n",
        "arr2d"
      ]
    },
    {
      "cell_type": "code",
      "execution_count": null,
      "metadata": {
        "id": "ooYxUSPI61_z",
        "outputId": "8477fa0d-5813-466a-a8a9-836aaccee131"
      },
      "outputs": [
        {
          "name": "stdout",
          "output_type": "stream",
          "text": [
            "10\n",
            "60\n",
            "40\n"
          ]
        }
      ],
      "source": [
        "print(arr2d[0,0])\n",
        "print(arr2d[1,2])\n",
        "print(arr2d[1,0])"
      ]
    },
    {
      "cell_type": "code",
      "execution_count": null,
      "metadata": {
        "id": "9g8m-bDC61_z",
        "outputId": "63e9c689-72e6-4575-9694-ea4b3447a921"
      },
      "outputs": [
        {
          "data": {
            "text/plain": [
              "array([40, 50, 60])"
            ]
          },
          "execution_count": 70,
          "metadata": {},
          "output_type": "execute_result"
        }
      ],
      "source": [
        "arr2d[1,]"
      ]
    },
    {
      "cell_type": "markdown",
      "metadata": {
        "id": "bct9Oz2m61_z"
      },
      "source": [
        "## Array Slicing\n",
        "slicing is specified using a colon operator `:` with *from* and *to* arguements<br>\n",
        "`data[from:to]`"
      ]
    },
    {
      "cell_type": "markdown",
      "metadata": {
        "id": "KKTAcFt861_z"
      },
      "source": [
        "### One Dimensional Slicing\n",
        "You can index all data using slice : with no index"
      ]
    },
    {
      "cell_type": "code",
      "execution_count": null,
      "metadata": {
        "id": "Sji7KOD661_z",
        "outputId": "230ba00d-8fcd-4d02-ab85-6b2f9fe231ef"
      },
      "outputs": [
        {
          "data": {
            "text/plain": [
              "array([10, 20, 30, 40, 50])"
            ]
          },
          "execution_count": 71,
          "metadata": {},
          "output_type": "execute_result"
        }
      ],
      "source": [
        "arr"
      ]
    },
    {
      "cell_type": "markdown",
      "metadata": {
        "id": "QtgtCMbN61_0"
      },
      "source": [
        "## Array Broadcasting\n",
        "### Array Arithmetic Limitations\n",
        "Array with different shape and size cannot be added or subtracted in Arithmetic<br>\n",
        "A one dimensional array with length 8 can be added or subtracted from another array of length 8 only<br>\n",
        "This limittion in arithmetic is limiting<br>\n",
        "Python has buildin functionlity **broadcasting** to address this"
      ]
    },
    {
      "cell_type": "code",
      "execution_count": null,
      "metadata": {
        "id": "7GLx7ttv61_1",
        "outputId": "4c57b7f2-9e04-41ae-e1cf-089c981c5c19"
      },
      "outputs": [
        {
          "name": "stdout",
          "output_type": "stream",
          "text": [
            "[1 2 3]\n",
            "2\n",
            "[3 4 5]\n"
          ]
        }
      ],
      "source": [
        "a = np.array([1, 2, 3])\n",
        "print(a)\n",
        "b = 2\n",
        "print(b)\n",
        "c = a + b\n",
        "print(c)"
      ]
    },
    {
      "cell_type": "markdown",
      "metadata": {
        "id": "Cyh-NDs761_1"
      },
      "source": [
        "# 2D array and Scalar"
      ]
    },
    {
      "cell_type": "code",
      "execution_count": null,
      "metadata": {
        "id": "GCS0DDcG61_1",
        "outputId": "26f4861c-27bb-49a4-9514-a389906741bc"
      },
      "outputs": [
        {
          "name": "stdout",
          "output_type": "stream",
          "text": [
            "[[1 2 3]\n",
            " [4 5 6]]\n",
            "4\n",
            "[[ 5  6  7]\n",
            " [ 8  9 10]]\n"
          ]
        }
      ],
      "source": [
        "a = np.array([[1, 2, 3],[4, 5, 6]])\n",
        "print(a)\n",
        "b = 4\n",
        "print(b)\n",
        "c = a + b # scalar b will duplicate itself 5 more times to broadcast\n",
        "print(c)"
      ]
    },
    {
      "cell_type": "markdown",
      "metadata": {
        "id": "HTHUl61O61_2"
      },
      "source": [
        "### 1D and 2D Array Broadcasting\n"
      ]
    },
    {
      "cell_type": "code",
      "execution_count": null,
      "metadata": {
        "id": "VQduUins61_2",
        "outputId": "71433b7a-1968-46d3-f6e2-64fa201e744e"
      },
      "outputs": [
        {
          "name": "stdout",
          "output_type": "stream",
          "text": [
            "[[1 2 3]\n",
            " [4 5 6]]\n",
            "[7 8 9]\n",
            "[[ 8 10 12]\n",
            " [11 13 15]]\n"
          ]
        }
      ],
      "source": [
        "a = np.array([[1, 2, 3],[4, 5, 6]])\n",
        "print(a)\n",
        "b = np.array([7, 8, 9])\n",
        "print(b)\n",
        "c = a+b  # 1D array b is broadcast across each row of 2D by creating a copy of itself\n",
        "print(c)"
      ]
    },
    {
      "cell_type": "markdown",
      "metadata": {
        "id": "hO6aI4vC61_2"
      },
      "source": [
        "# Limitations of Broadcasting\n",
        "\n",
        "Broadcasting can be performed when<br>\n",
        "1. the shape of each dimension in the array are equal<br>\n",
        "or\n",
        "2. one has dimension size 1"
      ]
    },
    {
      "cell_type": "code",
      "execution_count": null,
      "metadata": {
        "id": "Q2mcFids61_2",
        "outputId": "6951bf2c-97ec-4c6a-a9a1-e0b709385cdb"
      },
      "outputs": [
        {
          "name": "stdout",
          "output_type": "stream",
          "text": [
            "Input array :  [[ 1  4  3]\n",
            " [11  2 10]]\n",
            "[ 1  5  8 19 21 31]\n"
          ]
        }
      ],
      "source": [
        "\n",
        "import numpy as np \n",
        "  \n",
        "arr = np.array([[1, 4, 3], [11, 2, 10]]) \n",
        "   \n",
        "print (\"Input array : \", arr)  \n",
        "    \n",
        "sum1 = np.cumsum(arr)    #Addition of all Elements to the Previous elements. \n",
        "print(sum1)  \n"
      ]
    },
    {
      "cell_type": "code",
      "execution_count": null,
      "metadata": {
        "id": "kdWuLI4q61_2"
      },
      "outputs": [],
      "source": []
    }
  ],
  "metadata": {
    "kernelspec": {
      "display_name": "Python 3",
      "language": "python",
      "name": "python3"
    },
    "language_info": {
      "codemirror_mode": {
        "name": "ipython",
        "version": 3
      },
      "file_extension": ".py",
      "mimetype": "text/x-python",
      "name": "python",
      "nbconvert_exporter": "python",
      "pygments_lexer": "ipython3",
      "version": "3.8.5"
    },
    "colab": {
      "provenance": [],
      "include_colab_link": true
    }
  },
  "nbformat": 4,
  "nbformat_minor": 0
}